{
  "nbformat": 4,
  "nbformat_minor": 0,
  "metadata": {
    "colab": {
      "provenance": [],
      "authorship_tag": "ABX9TyPZ/eTns81N391y3oXDqpdp",
      "include_colab_link": true
    },
    "kernelspec": {
      "name": "python3",
      "display_name": "Python 3"
    },
    "language_info": {
      "name": "python"
    }
  },
  "cells": [
    {
      "cell_type": "markdown",
      "metadata": {
        "id": "view-in-github",
        "colab_type": "text"
      },
      "source": [
        "<a href=\"https://colab.research.google.com/github/aradeyal/machine_learning/blob/main/%D7%AA%D7%A8%D7%92%D7%99%D7%9C_%D7%A8%D7%92%D7%A8%D7%A1%D7%99%D7%95%D7%AA_%D7%91%D7%A8%D7%9E%D7%AA_%D7%A1%D7%A4%D7%A8%D7%99%D7%95%D7%AA%E2%80%8E.ipynb\" target=\"_parent\"><img src=\"https://colab.research.google.com/assets/colab-badge.svg\" alt=\"Open In Colab\"/></a>"
      ]
    },
    {
      "cell_type": "code",
      "execution_count": 11,
      "metadata": {
        "colab": {
          "base_uri": "https://localhost:8080/"
        },
        "id": "uCXiW3qBLgtA",
        "outputId": "fe17c6a3-2517-4dbe-e439-5ac7d1725079"
      },
      "outputs": [
        {
          "output_type": "stream",
          "name": "stdout",
          "text": [
            "🔍 Linear Regression\n",
            "  MAE: 0.504\n",
            "  MSE: 0.390\n",
            "  R² : 0.403\n",
            "------------------------------\n",
            "🔍 Ridge Regression\n",
            "  MAE: 0.506\n",
            "  MSE: 0.393\n",
            "  R² : 0.399\n",
            "------------------------------\n",
            "🔍 Lasso Regression\n",
            "  MAE: 0.521\n",
            "  MSE: 0.417\n",
            "  R² : 0.362\n",
            "------------------------------\n",
            "🔍 Random Forest\n",
            "  MAE: 0.422\n",
            "  MSE: 0.301\n",
            "  R² : 0.539\n",
            "------------------------------\n",
            "🔍 Gradient Boosting\n",
            "  MAE: 0.485\n",
            "  MSE: 0.362\n",
            "  R² : 0.446\n",
            "------------------------------\n",
            "\n",
            "🏆 המודל עם הביצועים הטובים ביותר הוא: Random Forest\n",
            "\n",
            "📌 הפיצ'רים שנבחרו: ['volatile acidity', 'citric acid', 'total sulfur dioxide', 'sulphates', 'alcohol']\n",
            "\n",
            "📈 ביצועי 'Random Forest' עם 5 הפיצ'רים הנבחרים:\n",
            "  MAE: 0.436\n",
            "  MSE: 0.334\n",
            "  R² : 0.488\n"
          ]
        }
      ],
      "source": [
        "# 📦 שלב 1: יבוא ספריות\n",
        "import pandas as pd\n",
        "import numpy as np\n",
        "from sklearn.model_selection import train_test_split\n",
        "from sklearn.linear_model import LinearRegression, Ridge, Lasso\n",
        "from sklearn.ensemble import RandomForestRegressor, GradientBoostingRegressor\n",
        "from sklearn.metrics import mean_absolute_error, mean_squared_error, r2_score\n",
        "from sklearn.feature_selection import SelectKBest, f_regression\n",
        "\n",
        "# 📥 שלב 2: קריאת קובץ היין (אם העלית ל-Colab)\n",
        "dataset = pd.read_excel('winequality-red.xlsx')\n",
        "\n",
        "# ניקוי שמות עמודות\n",
        "dataset.columns = dataset.columns.str.strip().str.lower()\n",
        "dataset.rename(columns={'alcoho': 'alcohol'}, inplace=True)\n",
        "\n",
        "# 🧮 שלב 3: פיצול נתונים\n",
        "X = dataset.drop('quality', axis=1)\n",
        "y = dataset['quality']\n",
        "X_train, X_test, y_train, y_test = train_test_split(X, y, test_size=0.2, random_state=42)\n",
        "\n",
        "# 📊 שלב 4: פונקציית הערכת מודל\n",
        "def evaluate_model(model, name):\n",
        "    model.fit(X_train, y_train)\n",
        "    y_pred = model.predict(X_test)\n",
        "    print(f\"🔍 {name}\")\n",
        "    print(f\"  MAE: {mean_absolute_error(y_test, y_pred):.3f}\")\n",
        "    print(f\"  MSE: {mean_squared_error(y_test, y_pred):.3f}\")\n",
        "    print(f\"  R² : {r2_score(y_test, y_pred):.3f}\")\n",
        "    print(\"-\" * 30)\n",
        "    return r2_score(y_test, y_pred)\n",
        "\n",
        "# 🧠 שלב 5: בניית רגרסיות שונות\n",
        "models = {\n",
        "    'Linear Regression': LinearRegression(),\n",
        "    'Ridge Regression': Ridge(alpha=1.0),\n",
        "    'Lasso Regression': Lasso(alpha=0.01),\n",
        "    'Random Forest': RandomForestRegressor(n_estimators=100, random_state=42),\n",
        "    'Gradient Boosting': GradientBoostingRegressor(n_estimators=100, random_state=42)\n",
        "}\n",
        "\n",
        "results = {}\n",
        "for name, model in models.items():\n",
        "    results[name] = evaluate_model(model, name)\n",
        "\n",
        "# 🏆 שלב 6: המודל עם התוצאה הכי גבוהה\n",
        "best_model_name = max(results, key=results.get)\n",
        "print(f\"\\n🏆 המודל עם הביצועים הטובים ביותר הוא: {best_model_name}\")\n",
        "\n",
        "# 🧪 שלב 7: בחירת פיצ'רים (SelectKBest)\n",
        "selector = SelectKBest(score_func=f_regression, k=5)\n",
        "X_new = selector.fit_transform(X, y)\n",
        "selected_features = X.columns[selector.get_support()]\n",
        "print(f\"\\n📌 הפיצ'רים שנבחרו: {list(selected_features)}\")\n",
        "\n",
        "# 💡 שלב 8: אימון המודל הטוב ביותר על הפיצ'רים הנבחרים\n",
        "X_selected = dataset[selected_features]\n",
        "X_train_sel, X_test_sel, y_train_sel, y_test_sel = train_test_split(X_selected, y, test_size=0.2, random_state=42)\n",
        "\n",
        "best_model = models[best_model_name]\n",
        "best_model.fit(X_train_sel, y_train_sel)\n",
        "preds_sel = best_model.predict(X_test_sel)\n",
        "\n",
        "print(f\"\\n📈 ביצועי '{best_model_name}' עם 5 הפיצ'רים הנבחרים:\")\n",
        "print(f\"  MAE: {mean_absolute_error(y_test_sel, preds_sel):.3f}\")\n",
        "print(f\"  MSE: {mean_squared_error(y_test_sel, preds_sel):.3f}\")\n",
        "print(f\"  R² : {r2_score(y_test_sel, preds_sel):.3f}\")\n"
      ]
    }
  ]
}