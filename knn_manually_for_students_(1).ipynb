{
  "cells": [
    {
      "cell_type": "markdown",
      "metadata": {
        "id": "view-in-github",
        "colab_type": "text"
      },
      "source": [
        "<a href=\"https://colab.research.google.com/github/aradeyal/machine_learning/blob/main/knn_manually_for_students_(1).ipynb\" target=\"_parent\"><img src=\"https://colab.research.google.com/assets/colab-badge.svg\" alt=\"Open In Colab\"/></a>"
      ]
    },
    {
      "cell_type": "code",
      "execution_count": null,
      "id": "71cd4705-8073-4834-b270-eb094ad2dde0",
      "metadata": {
        "id": "71cd4705-8073-4834-b270-eb094ad2dde0"
      },
      "outputs": [],
      "source": [
        "import numpy as np\n",
        "import matplotlib.pyplot as plt\n",
        "import pandas as pd"
      ]
    },
    {
      "cell_type": "code",
      "execution_count": null,
      "id": "f2c92f9d-5de5-43ab-bd11-1f1fa25c591f",
      "metadata": {
        "id": "f2c92f9d-5de5-43ab-bd11-1f1fa25c591f",
        "outputId": "41ca25e3-5c2a-40e0-883d-366d8ce3a275"
      },
      "outputs": [
        {
          "data": {
            "text/plain": [
              "[[7, 7, -1], [7, 4, -1], [3, 4, -2], [1, 4, -2]]"
            ]
          },
          "execution_count": 278,
          "metadata": {},
          "output_type": "execute_result"
        }
      ],
      "source": [
        "my_dots=[[7,7,-1],[7,4,-1],[3,4,-2],[1,4,-2]]\n",
        "my_dots"
      ]
    },
    {
      "cell_type": "code",
      "execution_count": null,
      "id": "aac832ef-7102-4bac-98ca-3f21a6d4b9bd",
      "metadata": {
        "id": "aac832ef-7102-4bac-98ca-3f21a6d4b9bd"
      },
      "outputs": [],
      "source": [
        "my_candidate=[[4,10]]"
      ]
    },
    {
      "cell_type": "code",
      "execution_count": null,
      "id": "ace7abc6-6ca5-4df5-a770-b317b512a199",
      "metadata": {
        "id": "ace7abc6-6ca5-4df5-a770-b317b512a199",
        "outputId": "9b24f905-9851-4c90-aea1-8ff17c22bbf0"
      },
      "outputs": [
        {
          "data": {
            "image/png": "[encoded data removed]",
            "text/plain": [
              "<Figure size 432x288 with 1 Axes>"
            ]
          },
          "metadata": {
            "needs_background": "light"
          },
          "output_type": "display_data"
        }
      ],
      "source": [
        "import numpy as np\n",
        "import matplotlib.pyplot as plt\n",
        "ax = plt.gca()\n",
        "ax.spines['left'].set_position('zero')\n",
        "ax.spines['right'].set_color('none')\n",
        "ax.spines['bottom'].set_position('zero')\n",
        "ax.spines['top'].set_color('none')\n",
        "plt.xlim([-1, 11])\n",
        "plt.ylim([-1, 11])\n",
        "plt.grid()\n",
        "bads = np.array([7,7])\n",
        "goods=np.array([3,1])\n",
        "y_bads = np.array([7,4])\n",
        "y_goods= np.array([4,4])\n",
        "plt.scatter(goods, y_goods, color = \"g\", marker = \"o\", s = 40)\n",
        "plt.scatter(bads, y_bads, color = \"r\", marker = \"o\", s = 40)\n",
        "plt.scatter(my_candidate[0][0], my_candidate[0][1], color = \"b\", marker = \"o\", s = 40)\n",
        "plt.show()"
      ]
    },
    {
      "cell_type": "code",
      "execution_count": null,
      "id": "ab49d485-f6d1-42a1-b79d-16227879e1a7",
      "metadata": {
        "id": "ab49d485-f6d1-42a1-b79d-16227879e1a7",
        "outputId": "184b8e66-1454-4695-9983-0c8e07e91b40"
      },
      "outputs": [
        {
          "data": {
            "text/plain": [
              "array([[0, 0],\n",
              "       [0, 0],\n",
              "       [0, 0],\n",
              "       [0, 0]])"
            ]
          },
          "execution_count": 292,
          "metadata": {},
          "output_type": "execute_result"
        }
      ],
      "source": [
        "my_sqr_dist=np.array([[0,0],[0,0],[0,0],[0,0]])\n",
        "my_sqr_dist"
      ]
    },
    {
      "cell_type": "code",
      "execution_count": null,
      "id": "f0b01d11-b2a1-47b9-bee0-e6e8709bf0fb",
      "metadata": {
        "id": "f0b01d11-b2a1-47b9-bee0-e6e8709bf0fb",
        "outputId": "5ce8c9df-7b3b-4a70-e70e-a64d4ec9799f",
        "colab": {
          "base_uri": "https://localhost:8080/"
        }
      },
      "outputs": [
        {
          "output_type": "stream",
          "name": "stdout",
          "text": [
            "[[ 4 -1]\n",
            " [ 6 -1]\n",
            " [ 6 -2]\n",
            " [ 6 -2]]\n"
          ]
        }
      ],
      "source": [
        "import numpy as np\n",
        "\n",
        "my_dots = [[7, 7, -1], [7, 4, -1], [3, 4, -2], [1, 4, -2]]\n",
        "my_candidate = [[4, 10]]\n",
        "\n",
        "my_sqr_dist = np.array([[0, 0], [0, 0], [0, 0], [0, 0]])\n",
        "\n",
        "for i in range(len(my_dots)):\n",
        "    distance = np.sqrt((my_candidate[0][0] - my_dots[i][0])**2 + (my_candidate[0][1] - my_dots[i][1])**2)\n",
        "\n",
        "    my_sqr_dist[i] = [distance, my_dots[i][2]]\n",
        "\n",
        "print(my_sqr_dist)"
      ]
    },
    {
      "cell_type": "code",
      "execution_count": null,
      "id": "e3e956ae-2bba-48e8-8624-0fa2d203e587",
      "metadata": {
        "id": "e3e956ae-2bba-48e8-8624-0fa2d203e587",
        "outputId": "ebf6d493-1171-488e-9a5d-a20bd6343977",
        "colab": {
          "base_uri": "https://localhost:8080/"
        }
      },
      "outputs": [
        {
          "output_type": "stream",
          "name": "stdout",
          "text": [
            "Sorted by distance (nearest neighbors on top):\n",
            "[[ 7.          4.         -1.          2.23606798]\n",
            " [ 3.          4.         -2.          2.23606798]\n",
            " [ 7.          7.         -1.          2.82842712]\n",
            " [ 1.          4.         -2.          4.12310563]]\n"
          ]
        }
      ],
      "source": [
        "import numpy as np\n",
        "import matplotlib.pyplot as plt\n",
        "import pandas as pd\n",
        "\n",
        "my_candidate = np.array([[5, 5]])\n",
        "\n",
        "my_dots = np.array([\n",
        "    [7, 7, -1],\n",
        "    [7, 4, -1],\n",
        "    [3, 4, -2],\n",
        "    [1, 4, -2]\n",
        "])\n",
        "\n",
        "distances = np.linalg.norm(my_dots[:, :2] - my_candidate, axis=1)\n",
        "my_dots_with_dist = np.hstack((my_dots, distances.reshape(-1, 1)))\n",
        "\n",
        "sorted_dots = my_dots_with_dist[np.argsort(my_dots_with_dist[:, -1])]\n",
        "\n",
        "print(\"Sorted by distance (nearest neighbors on top):\")\n",
        "print(sorted_dots)\n"
      ]
    },
    {
      "cell_type": "code",
      "execution_count": null,
      "id": "f2b4bbc2-c03f-4dd0-bbf3-2fcaab9f1f51",
      "metadata": {
        "id": "f2b4bbc2-c03f-4dd0-bbf3-2fcaab9f1f51"
      },
      "outputs": [],
      "source": [
        "my_bad=0\n",
        "my_good=0\n",
        "\n",
        "for i in range(3):\n",
        "    if (sortedArr[i][1]==-1):\n",
        "        my_bad=my_bad+1\n",
        "    else:\n",
        "        my_good=my_good+1\n",
        "\n",
        "\n",
        "\n",
        "\n"
      ]
    },
    {
      "cell_type": "code",
      "execution_count": null,
      "id": "439c22ec-ac80-48a1-b96d-d050ac1adf91",
      "metadata": {
        "id": "439c22ec-ac80-48a1-b96d-d050ac1adf91",
        "outputId": "a516b5bc-e8c7-41d2-e3eb-945b6e1f5fcd"
      },
      "outputs": [
        {
          "name": "stdout",
          "output_type": "stream",
          "text": [
            "class is class bad\n"
          ]
        }
      ],
      "source": [
        "if (my_good>my_bad):\n",
        "    print (\"class is class good\")\n",
        "    my_color=\"g\"\n",
        "else:\n",
        "    print (\"class is class bad\")\n",
        "    my_color=\"r\""
      ]
    },
    {
      "cell_type": "code",
      "execution_count": null,
      "id": "44f82208-4cf3-4624-be41-897c5641878c",
      "metadata": {
        "id": "44f82208-4cf3-4624-be41-897c5641878c",
        "outputId": "d9ff1e9c-a88c-48df-9afa-61390902a02c"
      },
      "outputs": [
        {
          "data": {
            "image/png": "[encoded data removed]",
            "text/plain": [
              "<Figure size 432x288 with 1 Axes>"
            ]
          },
          "metadata": {
            "needs_background": "light"
          },
          "output_type": "display_data"
        }
      ],
      "source": [
        "import numpy as np\n",
        "import matplotlib.pyplot as plt\n",
        "ax = plt.gca()\n",
        "ax.spines['left'].set_position('zero')\n",
        "ax.spines['right'].set_color('none')\n",
        "ax.spines['bottom'].set_position('zero')\n",
        "ax.spines['top'].set_color('none')\n",
        "plt.xlim([-1, 11])\n",
        "plt.ylim([-1, 11])\n",
        "plt.grid()\n",
        "bads = np.array([7,7])\n",
        "goods=np.array([3,1])\n",
        "y_bads = np.array([7,4])\n",
        "y_goods= np.array([4,4])\n",
        "plt.scatter(goods, y_goods, color = \"g\", marker = \"o\", s = 40)\n",
        "plt.scatter(bads, y_bads, color = \"r\", marker = \"o\", s = 40)\n",
        "plt.scatter(my_candidate[0][0], my_candidate[0][1], color = my_color, marker = \"o\", s = 40)\n",
        "plt.show()"
      ]
    }
  ],
  "metadata": {
    "kernelspec": {
      "display_name": "Python 3 (ipykernel)",
      "language": "python",
      "name": "python3"
    },
    "language_info": {
      "codemirror_mode": {
        "name": "ipython",
        "version": 3
      },
      "file_extension": ".py",
      "mimetype": "text/x-python",
      "name": "python",
      "nbconvert_exporter": "python",
      "pygments_lexer": "ipython3",
      "version": "3.9.7"
    },
    "colab": {
      "provenance": [],
      "include_colab_link": true
    }
  },
  "nbformat": 4,
  "nbformat_minor": 5
}