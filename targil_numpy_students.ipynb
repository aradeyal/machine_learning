{
  "cells": [
    {
      "cell_type": "markdown",
      "metadata": {
        "id": "view-in-github",
        "colab_type": "text"
      },
      "source": [
        "<a href=\"https://colab.research.google.com/github/aradeyal/machine_learning/blob/main/targil_numpy_students.ipynb\" target=\"_parent\"><img src=\"https://colab.research.google.com/assets/colab-badge.svg\" alt=\"Open In Colab\"/></a>"
      ]
    },
    {
      "cell_type": "code",
      "execution_count": null,
      "id": "d68b5894-aae5-4b7d-b2a5-ba20f354fd25",
      "metadata": {
        "id": "d68b5894-aae5-4b7d-b2a5-ba20f354fd25"
      },
      "outputs": [],
      "source": [
        "import numpy as np\n",
        "\n"
      ]
    },
    {
      "cell_type": "code",
      "execution_count": null,
      "id": "b51e3624-a278-4314-b59d-956a3e07c8ea",
      "metadata": {
        "id": "b51e3624-a278-4314-b59d-956a3e07c8ea",
        "outputId": "943ed356-c39e-43d1-9f13-eeb537c86644"
      },
      "outputs": [
        {
          "name": "stdout",
          "output_type": "stream",
          "text": [
            "0\n",
            "1\n",
            "2\n",
            "3\n"
          ]
        }
      ],
      "source": [
        "a = np.array(42)\n",
        "b = np.array([1, 2, 3, 4, 5])\n",
        "c = np.array([[1, 2, 3], [4, 5, 6]])\n",
        "d = np.array([[[1, 2, 3], [4, 5, 6]], [[1, 2, 3], [4, 5, 6]]])\n",
        "\n",
        "print(a.ndim)\n",
        "print(b.ndim)\n",
        "print(c.ndim)\n",
        "print(d.ndim)"
      ]
    },
    {
      "cell_type": "code",
      "execution_count": null,
      "id": "52cd5f52-a188-4a4f-9a3c-875495428004",
      "metadata": {
        "id": "52cd5f52-a188-4a4f-9a3c-875495428004",
        "outputId": "456737a2-d7ef-4ea6-9408-d9a3dc6dbfb9"
      },
      "outputs": [
        {
          "name": "stdout",
          "output_type": "stream",
          "text": [
            "[[[[[1 2 3 4]]]]]\n",
            "number of dimensions : 5\n"
          ]
        }
      ],
      "source": [
        "arr = np.array([1, 2, 3, 4], ndmin=5)\n",
        "\n",
        "print(arr)\n",
        "print('number of dimensions :', arr.ndim)"
      ]
    },
    {
      "cell_type": "code",
      "execution_count": null,
      "id": "321718bd-2c57-4784-942b-a1edd13946dc",
      "metadata": {
        "id": "321718bd-2c57-4784-942b-a1edd13946dc",
        "outputId": "ac588455-b520-461e-9674-54f69dbad15b"
      },
      "outputs": [
        {
          "name": "stdout",
          "output_type": "stream",
          "text": [
            "6\n"
          ]
        }
      ],
      "source": [
        "arr = np.array([[[1, 2, 3], [4, 5, 6]], [[7, 8, 9], [10, 11, 12]]])\n",
        "\n",
        "#fill in whats missing to get  print- 6"
      ]
    },
    {
      "cell_type": "code",
      "source": [
        "#תרגיל 1\n",
        "import numpy as np\n",
        "arr = np.array([[[1, 2, 3], [4, 5, 6]], [[7, 8, 9], [10, 11, 12]]])\n",
        "print(arr[0,1,2])"
      ],
      "metadata": {
        "id": "lw71VqPdl-Bw",
        "outputId": "499b4a54-f9df-4294-9f1e-4e1fd5518fd1",
        "colab": {
          "base_uri": "https://localhost:8080/"
        }
      },
      "id": "lw71VqPdl-Bw",
      "execution_count": null,
      "outputs": [
        {
          "output_type": "stream",
          "name": "stdout",
          "text": [
            "6\n"
          ]
        }
      ]
    },
    {
      "cell_type": "code",
      "execution_count": null,
      "id": "7be092fb-9067-487b-a76c-49205883786a",
      "metadata": {
        "id": "7be092fb-9067-487b-a76c-49205883786a",
        "outputId": "d1b780d5-a9f0-4786-e9c6-d6abde3f0bf7"
      },
      "outputs": [
        {
          "name": "stdout",
          "output_type": "stream",
          "text": [
            "Last element from 2nd dim:  10\n"
          ]
        }
      ],
      "source": [
        "arr = np.array([[1,2,3,4,5], [6,7,8,9,10]])\n",
        "\n",
        "print('Last element from 2nd dim: ',#fill in whats missing to get  print - Last element from 2nd dim:  10"
      ]
    },
    {
      "cell_type": "code",
      "source": [
        "#תרגיל 2\n",
        "arr = np.array([[1,2,3,4,5], [6,7,8,9,10]])\n",
        "\n",
        "print('Last element from 2nd dim: ',arr[1][-1])"
      ],
      "metadata": {
        "id": "yMuO4RiVm5c8",
        "outputId": "be4d10a9-b132-45f0-c451-8f382ffd6eb6",
        "colab": {
          "base_uri": "https://localhost:8080/"
        }
      },
      "id": "yMuO4RiVm5c8",
      "execution_count": null,
      "outputs": [
        {
          "output_type": "stream",
          "name": "stdout",
          "text": [
            "Last element from 2nd dim:  10\n"
          ]
        }
      ]
    },
    {
      "cell_type": "code",
      "execution_count": null,
      "id": "a282e6b4-065d-4790-bbef-a0cceaa8619e",
      "metadata": {
        "id": "a282e6b4-065d-4790-bbef-a0cceaa8619e",
        "outputId": "3ea0c872-7e11-4609-b942-541bef510687"
      },
      "outputs": [
        {
          "name": "stdout",
          "output_type": "stream",
          "text": [
            "[2 3 4 5]\n"
          ]
        }
      ],
      "source": [
        "arr = np.array([1, 2, 3, 4, 5, 6, 7])\n",
        "\n",
        "#fill in whats missing to get  print [2 3 4 5]"
      ]
    },
    {
      "cell_type": "code",
      "source": [
        "#תרגיל 3\n",
        "arr = np.array([1, 2, 3, 4, 5, 6, 7])\n",
        "print(arr[1:5])"
      ],
      "metadata": {
        "id": "tMVrBkuXnoK7",
        "outputId": "560cae29-7955-4833-95d0-42b95b9286ec",
        "colab": {
          "base_uri": "https://localhost:8080/"
        }
      },
      "id": "tMVrBkuXnoK7",
      "execution_count": null,
      "outputs": [
        {
          "output_type": "stream",
          "name": "stdout",
          "text": [
            "[2 3 4 5]\n"
          ]
        }
      ]
    },
    {
      "cell_type": "code",
      "execution_count": null,
      "id": "73a10d8b-e5ee-410e-870d-ced25dad549b",
      "metadata": {
        "id": "73a10d8b-e5ee-410e-870d-ced25dad549b",
        "outputId": "89a32e11-be1d-4deb-ffe2-14f034c94cad"
      },
      "outputs": [
        {
          "name": "stdout",
          "output_type": "stream",
          "text": [
            "[1 2 3 4]\n"
          ]
        }
      ],
      "source": [
        "arr = np.array([1, 2, 3, 4, 5, 6, 7])\n",
        "\n",
        "#fill in whats missing to get  print [1 2 3 4]"
      ]
    },
    {
      "cell_type": "code",
      "source": [
        "#תרגיל 4\n",
        "arr = np.array([1, 2, 3, 4, 5, 6, 7])\n",
        "print(arr[:4])"
      ],
      "metadata": {
        "id": "DeLjJejin5eI",
        "outputId": "928c70e1-04d7-41a6-83c3-e78df3bfbb0b",
        "colab": {
          "base_uri": "https://localhost:8080/"
        }
      },
      "id": "DeLjJejin5eI",
      "execution_count": null,
      "outputs": [
        {
          "output_type": "stream",
          "name": "stdout",
          "text": [
            "[1 2 3 4]\n"
          ]
        }
      ]
    },
    {
      "cell_type": "code",
      "execution_count": null,
      "id": "cc097f2f-6c8d-44de-9d11-9ba29f82856e",
      "metadata": {
        "id": "cc097f2f-6c8d-44de-9d11-9ba29f82856e",
        "outputId": "4c6e615c-0d28-4c07-c7b9-76a765b05006"
      },
      "outputs": [
        {
          "name": "stdout",
          "output_type": "stream",
          "text": [
            "[[ 1  2  3  4  5]\n",
            " [ 6  7  8  9 10]]\n",
            "shape of array : (2, 5)\n",
            "2\n",
            "5\n"
          ]
        }
      ],
      "source": [
        "\n",
        "\n",
        "arr = np.array([[1,2,3,4,5], [6,7,8,9,10]])\n",
        "\n",
        "print(arr)\n",
        "print('shape of array :', arr.shape)\n",
        "#fill in whats missing to get  print:\n",
        "#[[ 1  2  3  4  5]\n",
        "# [ 6  7  8  9 10]]\n",
        "#shape of array : (2, 5)\n",
        "#2\n",
        "#5"
      ]
    },
    {
      "cell_type": "code",
      "source": [
        "#תרגיל 5\n",
        "arr = np.array([[1,2,3,4,5], [6,7,8,9,10]])\n",
        "\n",
        "print(arr)\n",
        "print('shape of array :', arr.shape)\n",
        "print(arr.shape[0])\n",
        "print(arr.shape[1])"
      ],
      "metadata": {
        "id": "8H78FOhmoP1b",
        "outputId": "a9938694-b7f2-4ce5-f595-1ed4639742d2",
        "colab": {
          "base_uri": "https://localhost:8080/"
        }
      },
      "id": "8H78FOhmoP1b",
      "execution_count": null,
      "outputs": [
        {
          "output_type": "stream",
          "name": "stdout",
          "text": [
            "[[ 1  2  3  4  5]\n",
            " [ 6  7  8  9 10]]\n",
            "shape of array : (2, 5)\n",
            "2\n",
            "5\n"
          ]
        }
      ]
    },
    {
      "cell_type": "code",
      "execution_count": null,
      "id": "f5231dec-86f3-4271-9dbd-71d70194436f",
      "metadata": {
        "id": "f5231dec-86f3-4271-9dbd-71d70194436f",
        "outputId": "72bebc3b-f9c6-444a-98c1-32d77f6f2d55"
      },
      "outputs": [
        {
          "name": "stdout",
          "output_type": "stream",
          "text": [
            "[[1 2 3]\n",
            " [4 5 6]\n",
            " [7 8 9]]\n"
          ]
        }
      ],
      "source": [
        "arr = np.array([1, 2, 3, 4, 5, 6, 7, 8,9])\n",
        "\n",
        "newarr = #fill in whats missing to get print:\n",
        "#[[1 2 3]\n",
        "# [4 5 6]\n",
        "# [7 8 9]]\n",
        "\n",
        "print(newarr)"
      ]
    },
    {
      "cell_type": "code",
      "source": [
        "#תרגיל 6\n",
        "arr = np.array([1, 2, 3, 4, 5, 6, 7, 8,9])\n",
        "\n",
        "newarr = arr.reshape(3,3)\n",
        "\n",
        "\n",
        "print(newarr)"
      ],
      "metadata": {
        "id": "WmWe-u4vos1v",
        "outputId": "e637da6e-3342-4095-9c7a-43656f795b64",
        "colab": {
          "base_uri": "https://localhost:8080/"
        }
      },
      "id": "WmWe-u4vos1v",
      "execution_count": null,
      "outputs": [
        {
          "output_type": "stream",
          "name": "stdout",
          "text": [
            "[[1 2 3]\n",
            " [4 5 6]\n",
            " [7 8 9]]\n"
          ]
        }
      ]
    },
    {
      "cell_type": "code",
      "execution_count": null,
      "id": "ca8df10c-c795-4786-bd21-966269d5e9ff",
      "metadata": {
        "id": "ca8df10c-c795-4786-bd21-966269d5e9ff",
        "outputId": "038c3c9f-2412-4098-b7b6-b4722ecb6e74"
      },
      "outputs": [
        {
          "name": "stdout",
          "output_type": "stream",
          "text": [
            "1\n",
            "2\n",
            "3\n",
            "4\n",
            "5\n",
            "6\n",
            "7\n",
            "8\n",
            "9\n",
            "10\n",
            "11\n",
            "12\n"
          ]
        }
      ],
      "source": [
        "arr = np.array([[[1, 2, 3], [4, 5, 6]], [[7, 8, 9], [10, 11, 12]]])\n",
        "\n",
        "#fill in whats missing to get  print:\n",
        "#1\n",
        "#2\n",
        "#3\n",
        "#4\n",
        "#5\n",
        "#6\n",
        "#7\n",
        "#8\n",
        "#9\n",
        "#10\n",
        "#11\n",
        "#12"
      ]
    },
    {
      "cell_type": "code",
      "source": [
        "#תרגיל 7\n",
        "arr = np.array([[[1, 2, 3], [4, 5, 6]], [[7, 8, 9], [10, 11, 12]]])\n",
        "for x in arr:\n",
        " for y in x:\n",
        "  for z in y:\n",
        "   print(z)"
      ],
      "metadata": {
        "id": "CGnql_PQpIat",
        "outputId": "69f5128d-ce56-4af7-89c3-3da8cbb226ad",
        "colab": {
          "base_uri": "https://localhost:8080/"
        }
      },
      "id": "CGnql_PQpIat",
      "execution_count": null,
      "outputs": [
        {
          "output_type": "stream",
          "name": "stdout",
          "text": [
            "1\n",
            "2\n",
            "3\n",
            "4\n",
            "5\n",
            "6\n",
            "7\n",
            "8\n",
            "9\n",
            "10\n",
            "11\n",
            "12\n"
          ]
        }
      ]
    },
    {
      "cell_type": "code",
      "execution_count": null,
      "id": "7bc48e49-ee95-4c47-b03a-85196de5405c",
      "metadata": {
        "id": "7bc48e49-ee95-4c47-b03a-85196de5405c",
        "outputId": "9120a412-0241-40e1-87f5-3f60e69696d5"
      },
      "outputs": [
        {
          "name": "stdout",
          "output_type": "stream",
          "text": [
            "(0, 0) 1\n",
            "(0, 1) 2\n",
            "(0, 2) 3\n",
            "(0, 3) 4\n",
            "(1, 0) 5\n",
            "(1, 1) 6\n",
            "(1, 2) 7\n",
            "(1, 3) 8\n"
          ]
        }
      ],
      "source": [
        "\n",
        "arr = np.array([[1, 2, 3, 4], [5, 6, 7, 8]])\n",
        "\n",
        "for idx, x in np.ndenumerate(arr):\n",
        "  print(idx, x)"
      ]
    },
    {
      "cell_type": "code",
      "execution_count": null,
      "id": "64723476-7ab4-4292-81ed-a92f7c7df533",
      "metadata": {
        "id": "64723476-7ab4-4292-81ed-a92f7c7df533",
        "outputId": "76f4c218-9b9d-43dc-86ae-c670f82b051d"
      },
      "outputs": [
        {
          "name": "stdout",
          "output_type": "stream",
          "text": [
            "(array([3, 5, 6], dtype=int64),)\n"
          ]
        }
      ],
      "source": [
        "arr = np.array([1, 2, 3, 4, 5, 4, 4])\n",
        "\n",
        "#fill in whats missing to get  print:\n",
        "#(array([3, 5, 6], dtype=int64),)\n",
        "\n",
        "print(x)"
      ]
    },
    {
      "cell_type": "code",
      "source": [
        "#תרגיל 8\n",
        "arr = np.array([1, 2, 3, 4, 5, 4, 4])\n",
        "x = np.where(arr==4)\n",
        "\n",
        "print(x)"
      ],
      "metadata": {
        "id": "l1FU1hdAp3pf",
        "outputId": "3e727d0d-92be-4ba2-b59c-6b35074a0f27",
        "colab": {
          "base_uri": "https://localhost:8080/"
        }
      },
      "id": "l1FU1hdAp3pf",
      "execution_count": null,
      "outputs": [
        {
          "output_type": "stream",
          "name": "stdout",
          "text": [
            "(array([3, 5, 6]),)\n"
          ]
        }
      ]
    },
    {
      "cell_type": "code",
      "execution_count": null,
      "id": "0f47028e-21e3-402a-ac6b-dd401e95ee6b",
      "metadata": {
        "id": "0f47028e-21e3-402a-ac6b-dd401e95ee6b",
        "outputId": "ec4c1cca-5da0-4d17-efff-e9f131184db5"
      },
      "outputs": [
        {
          "name": "stdout",
          "output_type": "stream",
          "text": [
            "(array([1, 3, 5, 7], dtype=int64),)\n"
          ]
        }
      ],
      "source": [
        "arr = np.array([1, 2, 3, 4, 5, 6, 7, 8])\n",
        "\n",
        "#fill in whats missing to get  print:\n",
        "#(array([1, 3, 5, 7], dtype=int64),)\n",
        "\n",
        "print(x)"
      ]
    },
    {
      "cell_type": "code",
      "source": [
        "#תרגיל 9\n",
        "arr = np.array([1, 2, 3, 4, 5, 6, 7, 8])\n",
        "x = np.where(arr%2==0)\n",
        "print(x)"
      ],
      "metadata": {
        "id": "jflxBSiNqbwY",
        "outputId": "c5fb5e41-7ca5-450c-cc57-ab148984b12a",
        "colab": {
          "base_uri": "https://localhost:8080/"
        }
      },
      "id": "jflxBSiNqbwY",
      "execution_count": null,
      "outputs": [
        {
          "output_type": "stream",
          "name": "stdout",
          "text": [
            "(array([1, 3, 5, 7]),)\n"
          ]
        }
      ]
    },
    {
      "cell_type": "code",
      "execution_count": null,
      "id": "22feba1a-610b-4139-87c8-f4da03eb5160",
      "metadata": {
        "id": "22feba1a-610b-4139-87c8-f4da03eb5160",
        "outputId": "33d39f02-dbf8-41bf-8729-c2e5884d2367"
      },
      "outputs": [
        {
          "name": "stdout",
          "output_type": "stream",
          "text": [
            "[0 1 2 3]\n"
          ]
        }
      ],
      "source": [
        "import numpy as np\n",
        "\n",
        "arr = np.array([3, 2, 0, 1])\n",
        "\n",
        "#fill in whats missing to get below print:\n",
        "#[0 1 2 3]"
      ]
    },
    {
      "cell_type": "code",
      "source": [
        "#תרגיל 10\n",
        "import numpy as np\n",
        "arr = np.array([3, 2, 0, 1])\n",
        "print(np.sort(arr))"
      ],
      "metadata": {
        "id": "a1wNm2z0qtFi",
        "outputId": "a3a9dc67-2c7d-44fa-f165-27c1bb8fb40b",
        "colab": {
          "base_uri": "https://localhost:8080/"
        }
      },
      "id": "a1wNm2z0qtFi",
      "execution_count": null,
      "outputs": [
        {
          "output_type": "stream",
          "name": "stdout",
          "text": [
            "[0 1 2 3]\n"
          ]
        }
      ]
    },
    {
      "cell_type": "code",
      "execution_count": null,
      "id": "3a1d4728-f0c4-42fa-b4af-d2c3df8c438c",
      "metadata": {
        "id": "3a1d4728-f0c4-42fa-b4af-d2c3df8c438c",
        "outputId": "c98994af-8d1d-47f7-c154-99a45594ec14"
      },
      "outputs": [
        {
          "name": "stdout",
          "output_type": "stream",
          "text": [
            "[False False  True  True]\n",
            "[43 44]\n"
          ]
        }
      ],
      "source": [
        "arr = np.array([41, 42, 43, 44])\n",
        "\n",
        "filter_arr = arr > 42\n",
        "\n",
        "newarr = #fill in whats missing to get below print\n",
        "\n",
        "print(filter_arr)\n",
        "print(newarr)"
      ]
    },
    {
      "cell_type": "code",
      "source": [
        "#תרגיל 11\n",
        "arr = np.array([41, 42, 43, 44])\n",
        "\n",
        "filter_arr = arr > 42\n",
        "\n",
        "newarr = arr[filter_arr]\n",
        "\n",
        "print(filter_arr)\n",
        "print(newarr)"
      ],
      "metadata": {
        "id": "NaerXcKUrIbq",
        "outputId": "4b35cf95-9c68-4c90-b1c3-1f38ddea0ca8",
        "colab": {
          "base_uri": "https://localhost:8080/"
        }
      },
      "id": "NaerXcKUrIbq",
      "execution_count": null,
      "outputs": [
        {
          "output_type": "stream",
          "name": "stdout",
          "text": [
            "[False False  True  True]\n",
            "[43 44]\n"
          ]
        }
      ]
    },
    {
      "cell_type": "code",
      "execution_count": null,
      "id": "14732d20-032e-4865-8f89-14fec9f372dd",
      "metadata": {
        "id": "14732d20-032e-4865-8f89-14fec9f372dd",
        "outputId": "f8523997-746a-4885-aae5-90cd4ba97fb2"
      },
      "outputs": [
        {
          "name": "stdout",
          "output_type": "stream",
          "text": [
            "[[1 2 3 4]\n",
            " [5 6 7 8]]\n",
            "(2, 4)\n",
            "2\n",
            "4\n",
            "[[1 2]\n",
            " [3 4]\n",
            " [5 6]\n",
            " [7 8]]\n"
          ]
        }
      ],
      "source": [
        "arr = np.array([[1, 2, 3, 4], [5, 6, 7, 8]])\n",
        "\n",
        "print (arr)\n",
        "\n",
        "\n",
        "print (arr.shape)\n",
        "\n",
        "print (arr.shape[0])\n",
        "print (arr.shape[1])\n",
        "\n",
        "newarr = #fill in whats missing to get below print\n",
        "\n",
        "print(newarr)"
      ]
    },
    {
      "cell_type": "code",
      "source": [
        "#תרגיל 12\n",
        "arr = np.array([[1, 2, 3, 4], [5, 6, 7, 8]])\n",
        "\n",
        "print (arr)\n",
        "\n",
        "\n",
        "print (arr.shape)\n",
        "\n",
        "print (arr.shape[0])\n",
        "print (arr.shape[1])\n",
        "\n",
        "newarr = arr.reshape(4,2)\n",
        "\n",
        "print(newarr)"
      ],
      "metadata": {
        "id": "2V7CQ1cVrcEI",
        "outputId": "6244be4f-06e1-44aa-e071-86d1676eb701",
        "colab": {
          "base_uri": "https://localhost:8080/"
        }
      },
      "id": "2V7CQ1cVrcEI",
      "execution_count": null,
      "outputs": [
        {
          "output_type": "stream",
          "name": "stdout",
          "text": [
            "[[1 2 3 4]\n",
            " [5 6 7 8]]\n",
            "(2, 4)\n",
            "2\n",
            "4\n",
            "[[1 2]\n",
            " [3 4]\n",
            " [5 6]\n",
            " [7 8]]\n"
          ]
        }
      ]
    },
    {
      "cell_type": "code",
      "execution_count": null,
      "id": "ecfd4554-fd9f-48ed-85c9-d912356df07c",
      "metadata": {
        "id": "ecfd4554-fd9f-48ed-85c9-d912356df07c",
        "outputId": "d404b174-c1f5-4bb9-e922-a637b1845d3b"
      },
      "outputs": [
        {
          "name": "stdout",
          "output_type": "stream",
          "text": [
            "[['avi' '90']\n",
            " ['benny' '80']]\n",
            "--------------\n",
            "[['benny' '80']\n",
            " ['avi' '90']]\n"
          ]
        }
      ],
      "source": [
        "arr=[[\"avi\",90],[\"benny\",80]]\n",
        "\n",
        "np_arr=np.array(arr)\n",
        "\n",
        "columnIndex = 1\n",
        "# Sort 2D numpy array by 2nd Column\n",
        "sortedArr = np_arr[np_arr[:,columnIndex].argsort()]\n",
        "\n",
        "print (np_arr)\n",
        "\n",
        "print (\"--------------\")\n",
        "\n",
        "print (sortedArr)\n"
      ]
    },
    {
      "cell_type": "code",
      "execution_count": null,
      "id": "965444f4-8a74-409a-a09f-5f82e44a92ae",
      "metadata": {
        "id": "965444f4-8a74-409a-a09f-5f82e44a92ae",
        "outputId": "4831e3d1-29d0-4dce-a165-dc4974aa3e85"
      },
      "outputs": [
        {
          "name": "stdout",
          "output_type": "stream",
          "text": [
            "7\n",
            "8\n"
          ]
        }
      ],
      "source": [
        "arr = np.array([1, 2, 3, 4, 5, 6, 7, 8])\n",
        "\n",
        "\n",
        "print (np.argmax(arr))\n",
        "\n",
        "print (arr[np.argmax(arr)])"
      ]
    },
    {
      "cell_type": "code",
      "execution_count": null,
      "id": "e43aa1d1-5daf-4ad9-b0bc-98f038100b9b",
      "metadata": {
        "id": "e43aa1d1-5daf-4ad9-b0bc-98f038100b9b",
        "outputId": "b4734d7e-53c0-46c5-dae5-5750c5475b8e"
      },
      "outputs": [
        {
          "name": "stdout",
          "output_type": "stream",
          "text": [
            "two best scores are  24 45\n",
            "two worst scores are  98 99\n",
            "(10,)\n"
          ]
        }
      ],
      "source": [
        "arr = np.array([96, 24, 55, 99, 45, 78, 84, 83,79,98])\n",
        "\n",
        "sorted_arr= np.sort(arr)\n",
        "\n",
        "print (\"two best scores are \",#fill in whats missing to get below print)\n",
        "\n",
        "print (\"two worst scores are \",#fill in whats missing to get below print)\n",
        "\n",
        "print (arr.shape)\n",
        "\n",
        "#this is the print we want:\n",
        "#two worst scores are  24 45\n",
        "#two best scores are  98 99\n",
        "#(10,)"
      ]
    },
    {
      "cell_type": "code",
      "source": [
        "#תרגיל 13\n",
        "import numpy as np\n",
        "arr = np.array([96, 24, 55, 99, 45, 78, 84, 83,79,98])\n",
        "\n",
        "sorted_arr= np.sort(arr)\n",
        "\n",
        "print (\"two best scores are \",sorted_arr[0:2])\n",
        "\n",
        "print (\"two worst scores are \",sorted_arr[-2:])\n",
        "\n",
        "print (arr.shape)\n",
        "\n",
        "#this is the print we want:\n",
        "#two worst scores are  24 45\n",
        "#two best scores are  98 99\n",
        "#(10,)"
      ],
      "metadata": {
        "id": "pj8YATN2sQmF",
        "outputId": "4e6ad85c-db17-4b77-99d4-b3199d64d74c",
        "colab": {
          "base_uri": "https://localhost:8080/"
        }
      },
      "id": "pj8YATN2sQmF",
      "execution_count": null,
      "outputs": [
        {
          "output_type": "stream",
          "name": "stdout",
          "text": [
            "two best scores are  [24 45]\n",
            "two worst scores are  [98 99]\n",
            "(10,)\n"
          ]
        }
      ]
    },
    {
      "cell_type": "code",
      "execution_count": null,
      "id": "9ba5a7e6-2e74-43bf-997d-ffc86c674565",
      "metadata": {
        "id": "9ba5a7e6-2e74-43bf-997d-ffc86c674565"
      },
      "outputs": [],
      "source": [
        "a = np.array(42)\n",
        "x=np.array([[1,2],[1,1]])\n",
        "y=np.array([2,2])\n",
        "b = np.array([1, 2, 3, 4, 5])\n",
        "c = np.array([[1, 2, 3], [4, 5, 6]])\n",
        "d = np.array([[[1, 2, 3], [4, 5, 6]], [[1, 2, 3], [4, 5, 6]]])"
      ]
    },
    {
      "cell_type": "code",
      "execution_count": null,
      "id": "d2ef27d5-cc28-45fb-967f-a7e9b846d0b5",
      "metadata": {
        "id": "d2ef27d5-cc28-45fb-967f-a7e9b846d0b5",
        "outputId": "3ff257b8-e49d-437e-ef36-a196bdd13c80",
        "colab": {
          "base_uri": "https://localhost:8080/"
        }
      },
      "outputs": [
        {
          "output_type": "stream",
          "name": "stdout",
          "text": [
            "[ 42  84 126 168 210]\n"
          ]
        }
      ],
      "source": [
        "#תרגיל 14\n",
        "import numpy as np\n",
        "\n",
        "a = np.array(42)\n",
        "b = np.array([1, 2, 3, 4, 5])\n",
        "\n",
        "result = a * b\n",
        "\n",
        "print(result)"
      ]
    },
    {
      "cell_type": "code",
      "execution_count": null,
      "id": "9e4e077d-3af5-4dc9-8dac-9c020efb01be",
      "metadata": {
        "id": "9e4e077d-3af5-4dc9-8dac-9c020efb01be",
        "outputId": "3f7cc5ff-fd7d-461e-c202-779bf58edf86",
        "colab": {
          "base_uri": "https://localhost:8080/"
        }
      },
      "outputs": [
        {
          "output_type": "stream",
          "name": "stdout",
          "text": [
            "[[6 4]\n",
            " [6 4]\n",
            " [6 4]]\n"
          ]
        }
      ],
      "source": [
        "#תרגיל 15\n"
      ]
    },
    {
      "cell_type": "code",
      "execution_count": null,
      "id": "d8a9386e-eb1a-480f-b101-abae3ffff46f",
      "metadata": {
        "id": "d8a9386e-eb1a-480f-b101-abae3ffff46f",
        "outputId": "273a69ce-32d9-4d6c-983b-a37f27d68b0f"
      },
      "outputs": [
        {
          "name": "stdout",
          "output_type": "stream",
          "text": [
            "[2 1]\n",
            "[2 1]\n",
            "[[1 1]\n",
            " [1 1]\n",
            " [1 1]]\n",
            "[[1 1 1]\n",
            " [1 1 1]]\n"
          ]
        }
      ],
      "source": [
        "x=np.array([2,1])\n",
        "y=np.array([[1,1],[1,1],[1,1]])\n",
        "\n",
        "#fill in whats missing to get below print:\n",
        "#[2 1]\n",
        "#[2 1]\n",
        "#[[1 1]\n",
        "# [1 1]\n",
        "# [1 1]]\n",
        "#[[1 1 1]\n",
        "# [1 1 1]]\n",
        "\n",
        "print (x)\n",
        "print (xt)\n",
        "print(y)\n",
        "print(y.transpose())"
      ]
    },
    {
      "cell_type": "code",
      "source": [
        "#תרגיל 16\n",
        "import numpy as np\n",
        "x=np.array([2,1])\n",
        "y=np.array([[1,1],[1,1],[1,1]])\n",
        "\n",
        "xt = x.transpose()\n",
        "\n",
        "print (x)\n",
        "print (xt)\n",
        "print(y)\n",
        "print(y.transpose())"
      ],
      "metadata": {
        "id": "Kxpt44SxxwDp",
        "outputId": "c1e98de1-77ab-484a-f1d5-40f4f73100b1",
        "colab": {
          "base_uri": "https://localhost:8080/"
        }
      },
      "id": "Kxpt44SxxwDp",
      "execution_count": null,
      "outputs": [
        {
          "output_type": "stream",
          "name": "stdout",
          "text": [
            "[2 1]\n",
            "[2 1]\n",
            "[[1 1]\n",
            " [1 1]\n",
            " [1 1]]\n",
            "[[1 1 1]\n",
            " [1 1 1]]\n"
          ]
        }
      ]
    }
  ],
  "metadata": {
    "kernelspec": {
      "display_name": "Python 3 (ipykernel)",
      "language": "python",
      "name": "python3"
    },
    "language_info": {
      "codemirror_mode": {
        "name": "ipython",
        "version": 3
      },
      "file_extension": ".py",
      "mimetype": "text/x-python",
      "name": "python",
      "nbconvert_exporter": "python",
      "pygments_lexer": "ipython3",
      "version": "3.9.7"
    },
    "colab": {
      "provenance": [],
      "include_colab_link": true
    }
  },
  "nbformat": 4,
  "nbformat_minor": 5
}