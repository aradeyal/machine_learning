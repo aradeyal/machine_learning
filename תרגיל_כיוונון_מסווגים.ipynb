{
  "nbformat": 4,
  "nbformat_minor": 0,
  "metadata": {
    "colab": {
      "provenance": [],
      "mount_file_id": "1phYq6hLmY9i7tdRNFiUQkQGmYukQn7Fv",
      "authorship_tag": "ABX9TyOaxRsm7g+b5DZ8D6p+alMe",
      "include_colab_link": true
    },
    "kernelspec": {
      "name": "python3",
      "display_name": "Python 3"
    },
    "language_info": {
      "name": "python"
    }
  },
  "cells": [
    {
      "cell_type": "markdown",
      "metadata": {
        "id": "view-in-github",
        "colab_type": "text"
      },
      "source": [
        "<a href=\"https://colab.research.google.com/github/aradeyal/machine_learning/blob/main/%D7%AA%D7%A8%D7%92%D7%99%D7%9C_%D7%9B%D7%99%D7%95%D7%95%D7%A0%D7%95%D7%9F_%D7%9E%D7%A1%D7%95%D7%95%D7%92%D7%99%D7%9D.ipynb\" target=\"_parent\"><img src=\"https://colab.research.google.com/assets/colab-badge.svg\" alt=\"Open In Colab\"/></a>"
      ]
    },
    {
      "cell_type": "markdown",
      "source": [
        "# שלב 1: טעינת הדאטהסט\n"
      ],
      "metadata": {
        "id": "hsWxqAXdJJKY"
      }
    },
    {
      "cell_type": "code",
      "execution_count": 18,
      "metadata": {
        "colab": {
          "base_uri": "https://localhost:8080/"
        },
        "id": "i9znN8xzBxfD",
        "outputId": "a282a072-5fcb-4575-86c7-6d57fc2fc8e4"
      },
      "outputs": [
        {
          "output_type": "stream",
          "name": "stdout",
          "text": [
            "   fixed acidity  volatile acidity  citric acid  residual sugar  chlorides  \\\n",
            "0            7.4              0.70         0.00             1.9      0.076   \n",
            "1            7.8              0.88         0.00             2.6      0.098   \n",
            "2            7.8              0.76         0.04             2.3      0.092   \n",
            "3           11.2              0.28         0.56             1.9      0.075   \n",
            "4            7.4              0.70         0.00             1.9      0.076   \n",
            "\n",
            "   free sulfur dioxide  total sulfur dioxide  density    pH  sulphates  \\\n",
            "0                 11.0                  34.0   0.9978  3.51       0.56   \n",
            "1                 25.0                  67.0   0.9968  3.20       0.68   \n",
            "2                 15.0                  54.0   0.9970  3.26       0.65   \n",
            "3                 17.0                  60.0   0.9980  3.16       0.58   \n",
            "4                 11.0                  34.0   0.9978  3.51       0.56   \n",
            "\n",
            "   alcoho  quality  \n",
            "0     9.4        5  \n",
            "1     9.8        5  \n",
            "2     9.8        5  \n",
            "3     9.8        6  \n",
            "4     9.4        5  \n",
            "quality\n",
            "5    681\n",
            "6    638\n",
            "7    199\n",
            "4     53\n",
            "8     18\n",
            "3     10\n",
            "Name: count, dtype: int64\n"
          ]
        }
      ],
      "source": [
        "import numpy as np\n",
        "import matplotlib.pyplot as plt\n",
        "import pandas as pd\n",
        "\n",
        "\n",
        "dataset = pd.read_excel('/content/drive/MyDrive/Colab Notebooks/winequality-red.xlsx')\n",
        "\n",
        "print(dataset.head())\n",
        "print(dataset[\"quality\"].value_counts())"
      ]
    },
    {
      "cell_type": "markdown",
      "source": [
        "# שלב 2: הכנת הנתונים"
      ],
      "metadata": {
        "id": "YbPvJmTRJu6w"
      }
    },
    {
      "cell_type": "code",
      "source": [
        "dataset['label'] = dataset['quality'].apply(lambda x: 1 if x >= 7 else 0)\n",
        "\n",
        "X = dataset.drop(['quality', 'label'], axis=1)\n",
        "y = dataset['label']"
      ],
      "metadata": {
        "id": "-efF5FjtIS1P"
      },
      "execution_count": 20,
      "outputs": []
    },
    {
      "cell_type": "markdown",
      "source": [
        "# שלב 3: חלוקה ל־Train/Test"
      ],
      "metadata": {
        "id": "I65qDVL8J6x_"
      }
    },
    {
      "cell_type": "code",
      "source": [
        "from sklearn.model_selection import train_test_split\n",
        "\n",
        "X_train, X_test, y_train, y_test = train_test_split(X, y, test_size=0.2, random_state=42)\n"
      ],
      "metadata": {
        "id": "53jg_78OIgWn"
      },
      "execution_count": 21,
      "outputs": []
    },
    {
      "cell_type": "markdown",
      "source": [
        "# שלב 4: הפעלת מסווגים שונים"
      ],
      "metadata": {
        "id": "sYqV81hsKEEK"
      }
    },
    {
      "cell_type": "markdown",
      "source": [
        "\n",
        "#  1. Decision Tree"
      ],
      "metadata": {
        "id": "8e5DOQAAKK8m"
      }
    },
    {
      "cell_type": "code",
      "source": [
        "from sklearn.tree import DecisionTreeClassifier\n",
        "from sklearn.metrics import accuracy_score\n",
        "\n",
        "clf_dt = DecisionTreeClassifier()\n",
        "clf_dt.fit(X_train, y_train)\n",
        "y_pred_dt = clf_dt.predict(X_test)\n",
        "\n",
        "acc_dt = accuracy_score(y_test, y_pred_dt)\n",
        "print(\"Decision Tree Accuracy:\", acc_dt)\n"
      ],
      "metadata": {
        "colab": {
          "base_uri": "https://localhost:8080/"
        },
        "id": "NYP7e8NbIkkR",
        "outputId": "53c561b5-274b-4532-e188-a6843a4b3f91"
      },
      "execution_count": 22,
      "outputs": [
        {
          "output_type": "stream",
          "name": "stdout",
          "text": [
            "Decision Tree Accuracy: 0.890625\n"
          ]
        }
      ]
    },
    {
      "cell_type": "markdown",
      "source": [
        "#  2. K-Nearest Neighbors (k-NN)"
      ],
      "metadata": {
        "id": "_vrBUFPsKXlo"
      }
    },
    {
      "cell_type": "code",
      "source": [
        "from sklearn.neighbors import KNeighborsClassifier\n",
        "\n",
        "clf_knn = KNeighborsClassifier(n_neighbors=5)\n",
        "clf_knn.fit(X_train, y_train)\n",
        "y_pred_knn = clf_knn.predict(X_test)\n",
        "\n",
        "acc_knn = accuracy_score(y_test, y_pred_knn)\n",
        "print(\"KNN Accuracy:\", acc_knn)\n"
      ],
      "metadata": {
        "colab": {
          "base_uri": "https://localhost:8080/"
        },
        "id": "stdQAslkIpba",
        "outputId": "53f598cc-cd92-46d0-e0a2-47ef8bc7a6d9"
      },
      "execution_count": 23,
      "outputs": [
        {
          "output_type": "stream",
          "name": "stdout",
          "text": [
            "KNN Accuracy: 0.85625\n"
          ]
        }
      ]
    },
    {
      "cell_type": "markdown",
      "source": [
        "# 3. Naive Bayes"
      ],
      "metadata": {
        "id": "At4feCifKewF"
      }
    },
    {
      "cell_type": "code",
      "source": [
        "from sklearn.naive_bayes import GaussianNB\n",
        "\n",
        "clf_nb = GaussianNB()\n",
        "clf_nb.fit(X_train, y_train)\n",
        "y_pred_nb = clf_nb.predict(X_test)\n",
        "\n",
        "acc_nb = accuracy_score(y_test, y_pred_nb)\n",
        "print(\"Naive Bayes Accuracy:\", acc_nb)\n"
      ],
      "metadata": {
        "colab": {
          "base_uri": "https://localhost:8080/"
        },
        "id": "cUcmEjIhIs3X",
        "outputId": "12710383-da8c-43c7-ca70-afb1484c4a88"
      },
      "execution_count": 24,
      "outputs": [
        {
          "output_type": "stream",
          "name": "stdout",
          "text": [
            "Naive Bayes Accuracy: 0.853125\n"
          ]
        }
      ]
    },
    {
      "cell_type": "markdown",
      "source": [
        "#  4. Kernel SVM"
      ],
      "metadata": {
        "id": "rqevrIDdKfQ7"
      }
    },
    {
      "cell_type": "code",
      "source": [
        "from sklearn.svm import SVC\n",
        "\n",
        "clf_svm = SVC(kernel='rbf')\n",
        "clf_svm.fit(X_train, y_train)\n",
        "y_pred_svm = clf_svm.predict(X_test)\n",
        "\n",
        "acc_svm = accuracy_score(y_test, y_pred_svm)\n",
        "print(\"SVM Accuracy:\", acc_svm)\n"
      ],
      "metadata": {
        "colab": {
          "base_uri": "https://localhost:8080/"
        },
        "id": "CELeZhVVIswg",
        "outputId": "4016b99e-c0a7-44fb-834a-0422bee62816"
      },
      "execution_count": 25,
      "outputs": [
        {
          "output_type": "stream",
          "name": "stdout",
          "text": [
            "SVM Accuracy: 0.85625\n"
          ]
        }
      ]
    },
    {
      "cell_type": "markdown",
      "source": [
        "# 5. Logistic Regression"
      ],
      "metadata": {
        "id": "8jescvaKKf-t"
      }
    },
    {
      "cell_type": "code",
      "source": [
        "from sklearn.linear_model import LogisticRegression\n",
        "\n",
        "clf_lr = LogisticRegression(max_iter=1000)\n",
        "clf_lr.fit(X_train, y_train)\n",
        "y_pred_lr = clf_lr.predict(X_test)\n",
        "\n",
        "acc_lr = accuracy_score(y_test, y_pred_lr)\n",
        "print(\"Logistic Regression Accuracy:\", acc_lr)\n"
      ],
      "metadata": {
        "colab": {
          "base_uri": "https://localhost:8080/"
        },
        "id": "9MpILyiCIsjG",
        "outputId": "122064f4-3494-4eb2-a7a5-282886e16ee9"
      },
      "execution_count": 26,
      "outputs": [
        {
          "output_type": "stream",
          "name": "stdout",
          "text": [
            "Logistic Regression Accuracy: 0.8625\n"
          ]
        }
      ]
    },
    {
      "cell_type": "markdown",
      "source": [
        "# התוצאה הטובה ביותר:"
      ],
      "metadata": {
        "id": "3FbXXDfpLODP"
      }
    },
    {
      "cell_type": "code",
      "source": [
        "results = {\n",
        "    \"Decision Tree\": acc_dt,\n",
        "    \"KNN\": acc_knn,\n",
        "    \"Naive Bayes\": acc_nb,\n",
        "    \"SVM\": acc_svm,\n",
        "    \"Logistic Regression\": acc_lr\n",
        "}\n",
        "\n",
        "best_model = max(results, key=results.get)\n",
        "print(f\"המסווג הטוב ביותר הוא: {best_model} עם דיוק של {results[best_model]:.2f}\")\n"
      ],
      "metadata": {
        "colab": {
          "base_uri": "https://localhost:8080/"
        },
        "id": "KBItjhCyLIic",
        "outputId": "927613b9-0b15-4913-97e6-d8f81fb7d7a2"
      },
      "execution_count": 28,
      "outputs": [
        {
          "output_type": "stream",
          "name": "stdout",
          "text": [
            "המסווג הטוב ביותר הוא: Decision Tree עם דיוק של 0.89\n"
          ]
        }
      ]
    }
  ]
}