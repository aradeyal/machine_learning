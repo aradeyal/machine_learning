{
  "nbformat": 4,
  "nbformat_minor": 0,
  "metadata": {
    "colab": {
      "provenance": [],
      "mount_file_id": "1CCUgIAruaRKjBNTp_ta7MnVdlo8GCqgG",
      "authorship_tag": "ABX9TyN82ClR/2jyJGaeHVp5hg4p",
      "include_colab_link": true
    },
    "kernelspec": {
      "name": "python3",
      "display_name": "Python 3"
    },
    "language_info": {
      "name": "python"
    }
  },
  "cells": [
    {
      "cell_type": "markdown",
      "metadata": {
        "id": "view-in-github",
        "colab_type": "text"
      },
      "source": [
        "<a href=\"https://colab.research.google.com/github/aradeyal/machine_learning/blob/main/%D7%97%D7%96%D7%95%D7%99_%D7%A6%D7%99%D7%95%D7%9F_%D7%91%D7%99%D7%A7%D7%95%D7%A8%D7%AA_%D7%9C%D7%A4%D7%99_%D7%98%D7%A7%D7%A1%D7%98%E2%80%8E.ipynb\" target=\"_parent\"><img src=\"https://colab.research.google.com/assets/colab-badge.svg\" alt=\"Open In Colab\"/></a>"
      ]
    },
    {
      "cell_type": "code",
      "source": [
        "import numpy as np\n",
        "import matplotlib.pyplot as plt\n",
        "import pandas as pd\n",
        "import re\n",
        "import nltk\n",
        "from nltk.corpus import stopwords\n",
        "from nltk.stem import PorterStemmer\n",
        "from pathlib import Path\n",
        "\n",
        "# --- קריאת הקובץ ---\n",
        "csv_path = Path(r\"/tripadvisor_hotel_reviews.csv\")\n",
        "dataset = pd.read_csv(csv_path)\n",
        "\n",
        "# --- הורדת stopwords ---\n",
        "nltk.download('stopwords')\n",
        "\n",
        "# --- עיבוד טקסט ---\n",
        "corpus = []\n",
        "ps = PorterStemmer()\n",
        "all_stopwords = stopwords.words('english')\n",
        "if 'not' in all_stopwords:\n",
        "    all_stopwords.remove('not')\n",
        "\n",
        "for i in range(len(dataset)):\n",
        "    review = re.sub('[^a-zA-Z]', ' ', dataset['Review'][i])\n",
        "    review = review.lower().split()\n",
        "    review = [ps.stem(word) for word in review if word not in set(all_stopwords)]\n",
        "    review = ' '.join(review)\n",
        "    corpus.append(review)\n",
        "\n",
        "# --- Bag of Words ---\n",
        "from sklearn.feature_extraction.text import CountVectorizer\n",
        "cv = CountVectorizer(max_features=1500)\n",
        "X = cv.fit_transform(corpus).toarray()\n",
        "y = dataset.iloc[:, 1].values   # Rating\n",
        "\n",
        "# --- Train/Test split ---\n",
        "from sklearn.model_selection import train_test_split\n",
        "x_train, x_test, y_train, y_test = train_test_split(X, y, test_size=0.2, random_state=0)\n",
        "y_train = y_train - 1\n",
        "y_test = y_test - 1\n",
        "\n",
        "# --- מודל ANN ---\n",
        "import tensorflow as tf\n",
        "model = tf.keras.models.Sequential([\n",
        "    tf.keras.Input((1500,)),\n",
        "    tf.keras.layers.Dense(100, activation='relu'),\n",
        "    tf.keras.layers.Dense(100, activation='relu'),\n",
        "    tf.keras.layers.Dense(5, activation='softmax')\n",
        "])\n",
        "\n",
        "model.compile(optimizer='adam', loss='sparse_categorical_crossentropy', metrics=['accuracy'])\n",
        "\n",
        "# --- Data pipeline ---\n",
        "train = tf.data.Dataset.from_tensor_slices((x_train, y_train)).shuffle(1024).batch(32)\n",
        "test  = tf.data.Dataset.from_tensor_slices((x_test, y_test)).batch(1)\n",
        "\n",
        "# --- אימון + הערכה ---\n",
        "print(y_train[:20])  # הדפסה לבדיקה\n",
        "model.fit(train, epochs=10)\n",
        "model.evaluate(test)"
      ],
      "metadata": {
        "colab": {
          "base_uri": "https://localhost:8080/"
        },
        "id": "tMy7bNk4slOK",
        "outputId": "29b92b2c-e6b2-4afb-916c-f381370829ea"
      },
      "execution_count": null,
      "outputs": [
        {
          "output_type": "stream",
          "name": "stderr",
          "text": [
            "[nltk_data] Downloading package stopwords to /root/nltk_data...\n",
            "[nltk_data]   Package stopwords is already up-to-date!\n"
          ]
        },
        {
          "output_type": "stream",
          "name": "stdout",
          "text": [
            "[3 4 3 2 3 3 4 3 4 3 2 4 4 2 1 2 4 3 0 4]\n",
            "Epoch 1/10\n",
            "\u001b[1m513/513\u001b[0m \u001b[32m━━━━━━━━━━━━━━━━━━━━\u001b[0m\u001b[37m\u001b[0m \u001b[1m4s\u001b[0m 5ms/step - accuracy: 0.5325 - loss: 1.0947\n",
            "Epoch 2/10\n",
            "\u001b[1m513/513\u001b[0m \u001b[32m━━━━━━━━━━━━━━━━━━━━\u001b[0m\u001b[37m\u001b[0m \u001b[1m3s\u001b[0m 5ms/step - accuracy: 0.6706 - loss: 0.7638\n",
            "Epoch 3/10\n",
            "\u001b[1m513/513\u001b[0m \u001b[32m━━━━━━━━━━━━━━━━━━━━\u001b[0m\u001b[37m\u001b[0m \u001b[1m5s\u001b[0m 5ms/step - accuracy: 0.7409 - loss: 0.6151\n",
            "Epoch 4/10\n",
            "\u001b[1m513/513\u001b[0m \u001b[32m━━━━━━━━━━━━━━━━━━━━\u001b[0m\u001b[37m\u001b[0m \u001b[1m5s\u001b[0m 5ms/step - accuracy: 0.8224 - loss: 0.4363\n",
            "Epoch 5/10\n",
            "\u001b[1m513/513\u001b[0m \u001b[32m━━━━━━━━━━━━━━━━━━━━\u001b[0m\u001b[37m\u001b[0m \u001b[1m7s\u001b[0m 9ms/step - accuracy: 0.9018 - loss: 0.2697\n",
            "Epoch 6/10\n",
            "\u001b[1m513/513\u001b[0m \u001b[32m━━━━━━━━━━━━━━━━━━━━\u001b[0m\u001b[37m\u001b[0m \u001b[1m3s\u001b[0m 5ms/step - accuracy: 0.9514 - loss: 0.1496\n",
            "Epoch 7/10\n",
            "\u001b[1m513/513\u001b[0m \u001b[32m━━━━━━━━━━━━━━━━━━━━\u001b[0m\u001b[37m\u001b[0m \u001b[1m5s\u001b[0m 5ms/step - accuracy: 0.9715 - loss: 0.1009\n",
            "Epoch 8/10\n",
            "\u001b[1m513/513\u001b[0m \u001b[32m━━━━━━━━━━━━━━━━━━━━\u001b[0m\u001b[37m\u001b[0m \u001b[1m3s\u001b[0m 6ms/step - accuracy: 0.9837 - loss: 0.0643\n",
            "Epoch 9/10\n",
            "\u001b[1m513/513\u001b[0m \u001b[32m━━━━━━━━━━━━━━━━━━━━\u001b[0m\u001b[37m\u001b[0m \u001b[1m4s\u001b[0m 8ms/step - accuracy: 0.9830 - loss: 0.0585\n",
            "Epoch 10/10\n",
            "\u001b[1m513/513\u001b[0m \u001b[32m━━━━━━━━━━━━━━━━━━━━\u001b[0m\u001b[37m\u001b[0m \u001b[1m2s\u001b[0m 5ms/step - accuracy: 0.9808 - loss: 0.0616\n",
            "\u001b[1m4099/4099\u001b[0m \u001b[32m━━━━━━━━━━━━━━━━━━━━\u001b[0m\u001b[37m\u001b[0m \u001b[1m7s\u001b[0m 2ms/step - accuracy: 0.5711 - loss: 2.5891\n"
          ]
        },
        {
          "output_type": "execute_result",
          "data": {
            "text/plain": [
              "[2.682398796081543, 0.5606245398521423]"
            ]
          },
          "metadata": {},
          "execution_count": 9
        }
      ]
    }
  ]
}