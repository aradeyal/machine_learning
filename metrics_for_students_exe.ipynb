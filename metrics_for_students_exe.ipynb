{
  "cells": [
    {
      "cell_type": "markdown",
      "metadata": {
        "id": "view-in-github",
        "colab_type": "text"
      },
      "source": [
        "<a href=\"https://colab.research.google.com/github/aradeyal/machine_learning/blob/main/metrics_for_students_exe.ipynb\" target=\"_parent\"><img src=\"https://colab.research.google.com/assets/colab-badge.svg\" alt=\"Open In Colab\"/></a>"
      ]
    },
    {
      "cell_type": "code",
      "execution_count": null,
      "id": "bf7b0465-4389-4a5b-a52b-13fb47f0c1d4",
      "metadata": {
        "id": "bf7b0465-4389-4a5b-a52b-13fb47f0c1d4"
      },
      "outputs": [],
      "source": [
        "import numpy as np"
      ]
    },
    {
      "cell_type": "code",
      "execution_count": null,
      "id": "1ae90ce2-f437-48be-84f3-cd12bacd6de9",
      "metadata": {
        "id": "1ae90ce2-f437-48be-84f3-cd12bacd6de9"
      },
      "outputs": [],
      "source": [
        "def metrics(y, y_hat):\n",
        "    tp, tn, fp, fn = 0, 0, 0, 0\n",
        "    for i in range(len(y)):\n",
        "        if y[i] == 1 and y_hat[i] == 1:\n",
        "            tp += 1\n",
        "        elif y[i] == 0 and y_hat[i] == 0:\n",
        "            tn += 1\n",
        "        elif y[i] == 0 and y_hat[i] == 1:\n",
        "            fp += 1\n",
        "        elif y[i] == 1 and y_hat[i] == 0:\n",
        "            fn += 1\n",
        "\n",
        "    precision = tp / (tp + fp)\n",
        "    recall = tp / (tp + fn)\n",
        "    accuracy = (tp + tn) / (tp + tn + fp + fn)\n",
        "    f1_score = 2 * (precision * recall) / (precision + recall)\n",
        "\n",
        "    return (accuracy, precision, recall, f1_score)"
      ]
    },
    {
      "cell_type": "code",
      "execution_count": null,
      "id": "7b148c5d-ee92-4b2f-b409-e91a05e52972",
      "metadata": {
        "id": "7b148c5d-ee92-4b2f-b409-e91a05e52972"
      },
      "outputs": [],
      "source": [
        "y=[0,0,0,0,1,1,0,0,1,0]\n",
        "y_hat=[0,0,0,1,1,0,0,1,1,1]"
      ]
    },
    {
      "cell_type": "code",
      "execution_count": null,
      "id": "30a0dcf4-ae2b-4b40-93c3-ffa5f9f9dd3b",
      "metadata": {
        "id": "30a0dcf4-ae2b-4b40-93c3-ffa5f9f9dd3b"
      },
      "outputs": [],
      "source": [
        "accuracy,percision,recall,f1_score=metrics(y,y_hat)"
      ]
    },
    {
      "cell_type": "code",
      "execution_count": null,
      "id": "ee05deed-b78d-4aa0-bac6-326ad351cf29",
      "metadata": {
        "id": "ee05deed-b78d-4aa0-bac6-326ad351cf29",
        "outputId": "f835ce9b-e15b-4207-c688-f72126fc06e3"
      },
      "outputs": [
        {
          "name": "stdout",
          "output_type": "stream",
          "text": [
            "accuracy is 0.6 precision is 0.4 recall is 0.6666666666666666 f1_score is 0.5\n"
          ]
        }
      ],
      "source": [
        "print (\"accuracy is\",accuracy,\"precision is\",percision,\"recall is\",recall,\"f1_score is\",f1_score)"
      ]
    },
    {
      "cell_type": "code",
      "execution_count": null,
      "id": "24649bab-f5c4-47a3-8849-ad3c44fdeaf0",
      "metadata": {
        "id": "24649bab-f5c4-47a3-8849-ad3c44fdeaf0",
        "outputId": "a6017c98-7d42-4c78-d267-8b6691b48cc0"
      },
      "outputs": [
        {
          "name": "stdout",
          "output_type": "stream",
          "text": [
            "[[4 3]\n",
            " [1 2]]\n"
          ]
        },
        {
          "data": {
            "text/plain": [
              "0.6"
            ]
          },
          "execution_count": 9,
          "metadata": {},
          "output_type": "execute_result"
        }
      ],
      "source": [
        "from sklearn.metrics import confusion_matrix, accuracy_score\n",
        "cm = confusion_matrix(y, y_hat)\n",
        "print(cm)\n",
        "accuracy_score(y, y_hat)"
      ]
    }
  ],
  "metadata": {
    "kernelspec": {
      "display_name": "Python 3 (ipykernel)",
      "language": "python",
      "name": "python3"
    },
    "language_info": {
      "codemirror_mode": {
        "name": "ipython",
        "version": 3
      },
      "file_extension": ".py",
      "mimetype": "text/x-python",
      "name": "python",
      "nbconvert_exporter": "python",
      "pygments_lexer": "ipython3",
      "version": "3.9.7"
    },
    "colab": {
      "provenance": [],
      "include_colab_link": true
    }
  },
  "nbformat": 4,
  "nbformat_minor": 5
}